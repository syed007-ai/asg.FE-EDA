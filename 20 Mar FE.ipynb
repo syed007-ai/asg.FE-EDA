{
 "cells": [
  {
   "cell_type": "markdown",
   "id": "61a33f94-6c47-44a9-98b8-5806c19fbd6b",
   "metadata": {},
   "source": [
    "# 1. What is data encoding? How is it useful in data science?"
   ]
  },
  {
   "cell_type": "markdown",
   "id": "ca7db28c-617b-4d89-af33-99d8b530de06",
   "metadata": {},
   "source": [
    "- **Data encoding** is like translating a message from one language to another so that everyone can understand it. \n",
    "- In data science, it's the process of converting data from one format or representation to another. \n",
    "- It's useful because it allows us to work with different types of data, handle categorical variables, and make data suitable for machine learning models.\n",
    "\n",
    "> For, eg:\n",
    "- Suppose you're working with a dataset of movie genres, and the genres are in text form like \"Action,\" \"Comedy,\" and \"Drama.\"\n",
    "- However, to use this data in a machine learning model, you need to convert it into a numerical format.\n",
    "- Data encoding helps us do this.\n"
   ]
  },
  {
   "cell_type": "code",
   "execution_count": 20,
   "id": "135cbd5c-9d14-4872-a09d-3d30fdafe090",
   "metadata": {},
   "outputs": [
    {
     "name": "stdout",
     "output_type": "stream",
     "text": [
      "     Movie  Genre_Action  Genre_Comedy  Genre_Drama\n",
      "0  Movie A             1             0            0\n",
      "1  Movie B             0             1            0\n",
      "2  Movie C             0             0            1\n",
      "3  Movie D             1             0            0\n"
     ]
    }
   ],
   "source": [
    "import pandas as pd\n",
    "\n",
    "# sample data\n",
    "data = {\n",
    "    'Movie': ['Movie A', 'Movie B', 'Movie C', 'Movie D'],  #  movie genres\n",
    "    'Genre': ['Action', 'Comedy', 'Drama', 'Action']\n",
    "}\n",
    "\n",
    "df = pd.DataFrame(data)\n",
    "\n",
    "# performing data encoding - using one-hot encoding\n",
    "encoded_data = pd.get_dummies(df, columns=['Genre'], prefix='Genre')\n",
    "\n",
    "print(encoded_data)"
   ]
  },
  {
   "cell_type": "markdown",
   "id": "7ca4372f-17bc-4285-96dd-0e8a48f0d0f8",
   "metadata": {},
   "source": [
    "- Here, we performed data encoding using one-hot encoding, which converts the movie genres into numerical format.\n",
    "- Each genre becomes a binary (0 or 1) column, making it suitable for machine learning.\n",
    "- Now, the data is like translating the movie genres from a language everyone understands, like \"Action\" or \"Comedy,\" into a language that a machine learning model can work with, like 0s and 1s.\n",
    "- > - This Binary representation allows machine learning models to understand and process the data. \n",
    "- > - It's like creating a language that computers easily comprehend. \n",
    "- > - The 0's and 1's simplify data and make it possible for models to make predictions or classifications based on these binary features."
   ]
  },
  {
   "cell_type": "markdown",
   "id": "20851eee-4951-47a3-bd13-e482f8164917",
   "metadata": {},
   "source": [
    "# 2. What is nominal encoding? Provide an example of how you would use it in a real-world scenario. "
   ]
  },
  {
   "cell_type": "markdown",
   "id": "1710fb5c-d01b-4aa6-ade2-836953a5529b",
   "metadata": {},
   "source": [
    "- **Nominal encoding** is like giving names or labels to different categories or groups, allowing us to distinguish between them.\n",
    "- In data science, it's a way to convert categorical data into numerical form while preserving the distinct categories.\n",
    "- It's useful for scenarios where the categories have no inherent order or ranking.\n",
    "\n",
    "> - For, eg: \n",
    "- Imagine you're working with a dataset of car colors, which include categories like \"Red,\" \"Blue,\" and \"Green.\" \n",
    "- These colors have no natural order, and you want to convert them into numerical values for a machine learning model.\n"
   ]
  },
  {
   "cell_type": "code",
   "execution_count": 21,
   "id": "7d3c89f1-95a8-46c4-98e2-94d32e21631d",
   "metadata": {},
   "outputs": [
    {
     "name": "stdout",
     "output_type": "stream",
     "text": [
      "     Car  Color  Color Code\n",
      "0  Car A    Red           1\n",
      "1  Car B   Blue           2\n",
      "2  Car C  Green           3\n",
      "3  Car D    Red           1\n"
     ]
    }
   ],
   "source": [
    "import pandas as pd\n",
    "\n",
    "# sample data\n",
    "data = {\n",
    "    'Car': ['Car A', 'Car B', 'Car C', 'Car D'], # Car colors\n",
    "    'Color': ['Red', 'Blue', 'Green', 'Red']\n",
    "}\n",
    "\n",
    "df = pd.DataFrame(data)\n",
    "\n",
    "# performing nominal encoding\n",
    "color_mapping = {'Red': 1, 'Blue': 2, 'Green': 3}\n",
    "df['Color Code'] = df['Color'].map(color_mapping)\n",
    "\n",
    "print(df)\n"
   ]
  },
  {
   "cell_type": "markdown",
   "id": "117422f5-8ee3-4ba8-bb10-eb42fbe548a2",
   "metadata": {},
   "source": [
    "- Here, we used nominal encoding to convert car colors into numerical values.\n",
    "- Each color is given a unique code (1 for Red, 2 for Blue, 3 for Green), allowing the model to understand and work with the data. \n",
    "- Nominal encoding is useful when you have categories without a specific order, and you want to maintain the distinct identities of each category in numerical form."
   ]
  },
  {
   "cell_type": "markdown",
   "id": "78234f97-f2c9-488d-831c-40a1689386ce",
   "metadata": {},
   "source": [
    "# 3. In what situations is nominal encoding preferred over one-hot encoding? Provide a practical example."
   ]
  },
  {
   "cell_type": "markdown",
   "id": "92b4ff07-8a77-4f76-a884-cb07c77bb9f9",
   "metadata": {},
   "source": [
    "- Nominal encoding is preferred over one-hot encoding when you have categorical data with categories that don't have any natural order or ranking. \n",
    "- It's suitable for situations where you want to represent categories as numerical values without creating multiple binary columns.\n",
    "\n",
    "> - For, eg :\n",
    "- You're working on a dataset of countries, and you want to encode their regions.\n",
    "- Each country belongs to a specific region, and you want to represent this information numerically.\n"
   ]
  },
  {
   "cell_type": "code",
   "execution_count": 22,
   "id": "b08f1715-c7e4-4f03-a9ee-1de54d5fd602",
   "metadata": {},
   "outputs": [
    {
     "name": "stdout",
     "output_type": "stream",
     "text": [
      "     Country  Region  Region Code\n",
      "0  Country A  Europe            1\n",
      "1  Country B    Asia            2\n",
      "2  Country C  Africa            3\n",
      "3  Country D  Europe            1\n"
     ]
    }
   ],
   "source": [
    "import pandas as pd\n",
    "\n",
    "# sample data\n",
    "data = {\n",
    "    'Country': ['Country A', 'Country B', 'Country C', 'Country D'], # Countries and their regions\n",
    "    'Region': ['Europe', 'Asia', 'Africa', 'Europe']\n",
    "}\n",
    "\n",
    "df = pd.DataFrame(data)\n",
    "\n",
    "# performing nominal encoding\n",
    "region_mapping = {'Europe': 1, 'Asia': 2, 'Africa': 3}\n",
    "df['Region Code'] = df['Region'].map(region_mapping)\n",
    "\n",
    "print(df)"
   ]
  },
  {
   "cell_type": "markdown",
   "id": "531694a2-3560-42cc-95de-4491be4939de",
   "metadata": {},
   "source": [
    "- Here, we assigned each country with a numerical code based on its region.\n",
    "- Nominal encoding simplifies the representation of regions, making it easier for machine learning models to work with. \n",
    "- It's a suitable choice when the categories have no natural order, and you want to preserve their identities as numerical values."
   ]
  },
  {
   "cell_type": "markdown",
   "id": "ec4e9fff-626c-4ae3-a336-de3e1f309661",
   "metadata": {},
   "source": [
    "# 4. Suppose you have a dataset containing categorical data with 5 unique values. Which encoding technique would you use to transform this data into a format suitable for machine learning algorithms? Explain why you made this choice."
   ]
  },
  {
   "cell_type": "markdown",
   "id": "c811cb81-91eb-430d-ab41-3a207710441e",
   "metadata": {},
   "source": [
    "- As we have categorical data with 5 unique values, one common and straightforward encoding technique is nominal encoding using integer labels.\n",
    "- This choice is made because nominal encoding preserves the distinct categories in numerical form without creating an excessive number of binary columns (as in one-hot encoding).\n",
    "\n",
    "> - for, eg: \n",
    "- Consider we're working with a dataset of phone models, and we want to encode the phone brands. \n",
    "- Each phone model belongs to a specific brand, and we want to represent this information numerically. \n",
    "\n"
   ]
  },
  {
   "cell_type": "code",
   "execution_count": 23,
   "id": "e011d6d7-83b7-437b-9b6f-c4aa9fe2a3ee",
   "metadata": {},
   "outputs": [
    {
     "name": "stdout",
     "output_type": "stream",
     "text": [
      "  Phone Model    Brand  Brand Code\n",
      "0     Model A  Samsung           1\n",
      "1     Model B    Apple           2\n",
      "2     Model C  Samsung           1\n",
      "3     Model D   Huawei           3\n",
      "4     Model E     Sony           4\n"
     ]
    }
   ],
   "source": [
    "import pandas as pd \n",
    "\n",
    "# sample data \n",
    "data = {\n",
    "    \"Phone Model\" : [\"Model A\", \"Model B\", \"Model C\", \"Model D\", \"Model E\"], # phone models and their brands \n",
    "    \"Brand\" : [\"Samsung\",\"Apple\",\"Samsung\", \"Huawei\", \"Sony\"]\n",
    "}\n",
    "\n",
    "df = pd.DataFrame(data)\n",
    "\n",
    "# performing nominal encoding \n",
    "brand_mapping = {\"Samsung\":1 , \"Apple\" : 2, \"Huawei\": 3, \"Sony\":4}\n",
    "df[\"Brand Code\"]= df[\"Brand\"].map(brand_mapping)\n",
    "\n",
    "print(df)"
   ]
  },
  {
   "cell_type": "markdown",
   "id": "099a274f-1e3f-49e8-9cab-28d31812b90b",
   "metadata": {},
   "source": [
    "> - > -  Here, we used nominal encoding to convert phone brands into numerical values. \n",
    "> - > - Each brand is given a unique code, making it suitable for machine learning models. \n",
    "> - > - Nominal encoding with integer labels is an efficient choice for datasets with a moderate number of categories like the 5 unique values in this example. \n",
    "> - > - It maintains the identity of each category in numerical form without introducing excessive complexity."
   ]
  },
  {
   "cell_type": "markdown",
   "id": "88ff9242-2356-45c1-a739-7259e16e9a70",
   "metadata": {},
   "source": [
    "# 5. In a machine learning project, you have a dataset with 1000 rows and 5 columns. Two of the columns are categorical, and the remaining three columns are numerical. If you were to use nominal encoding to transform the categorical data, how many new columns would be created? Show your calculations."
   ]
  },
  {
   "cell_type": "markdown",
   "id": "46ae69c2-0694-4b09-8587-48cb1807f067",
   "metadata": {},
   "source": [
    "- When using nominal encoding for categorical data, each unique category is assigned a unique integer label. \n",
    "- So, for each categorical column, we create a single new column to store the encoded values.\n",
    "- No additional columns are created for each category within the categorical columns.\n",
    "\n",
    "- In this case, we have two categorical columns. \n",
    "- Therefore, we would create two new columns to store the encoded values for these columns.\n"
   ]
  },
  {
   "cell_type": "code",
   "execution_count": 24,
   "id": "9e11726d-1911-4863-a277-94d06d189ca2",
   "metadata": {},
   "outputs": [
    {
     "data": {
      "text/html": [
       "<div>\n",
       "<style scoped>\n",
       "    .dataframe tbody tr th:only-of-type {\n",
       "        vertical-align: middle;\n",
       "    }\n",
       "\n",
       "    .dataframe tbody tr th {\n",
       "        vertical-align: top;\n",
       "    }\n",
       "\n",
       "    .dataframe thead th {\n",
       "        text-align: right;\n",
       "    }\n",
       "</style>\n",
       "<table border=\"1\" class=\"dataframe\">\n",
       "  <thead>\n",
       "    <tr style=\"text-align: right;\">\n",
       "      <th></th>\n",
       "      <th>Cat 1</th>\n",
       "      <th>Cat 2</th>\n",
       "      <th>Num 1</th>\n",
       "      <th>Num 2</th>\n",
       "      <th>Num 3</th>\n",
       "    </tr>\n",
       "  </thead>\n",
       "  <tbody>\n",
       "    <tr>\n",
       "      <th>0</th>\n",
       "      <td>A</td>\n",
       "      <td>X</td>\n",
       "      <td>10</td>\n",
       "      <td>1.1</td>\n",
       "      <td>100</td>\n",
       "    </tr>\n",
       "    <tr>\n",
       "      <th>1</th>\n",
       "      <td>B</td>\n",
       "      <td>Y</td>\n",
       "      <td>20</td>\n",
       "      <td>2.2</td>\n",
       "      <td>200</td>\n",
       "    </tr>\n",
       "    <tr>\n",
       "      <th>2</th>\n",
       "      <td>A</td>\n",
       "      <td>Y</td>\n",
       "      <td>30</td>\n",
       "      <td>3.3</td>\n",
       "      <td>300</td>\n",
       "    </tr>\n",
       "    <tr>\n",
       "      <th>3</th>\n",
       "      <td>C</td>\n",
       "      <td>X</td>\n",
       "      <td>40</td>\n",
       "      <td>4.4</td>\n",
       "      <td>400</td>\n",
       "    </tr>\n",
       "    <tr>\n",
       "      <th>4</th>\n",
       "      <td>B</td>\n",
       "      <td>Z</td>\n",
       "      <td>50</td>\n",
       "      <td>5.5</td>\n",
       "      <td>500</td>\n",
       "    </tr>\n",
       "    <tr>\n",
       "      <th>5</th>\n",
       "      <td>A</td>\n",
       "      <td>Z</td>\n",
       "      <td>60</td>\n",
       "      <td>6.6</td>\n",
       "      <td>600</td>\n",
       "    </tr>\n",
       "    <tr>\n",
       "      <th>6</th>\n",
       "      <td>C</td>\n",
       "      <td>X</td>\n",
       "      <td>70</td>\n",
       "      <td>7.7</td>\n",
       "      <td>700</td>\n",
       "    </tr>\n",
       "    <tr>\n",
       "      <th>7</th>\n",
       "      <td>C</td>\n",
       "      <td>Y</td>\n",
       "      <td>80</td>\n",
       "      <td>8.8</td>\n",
       "      <td>800</td>\n",
       "    </tr>\n",
       "  </tbody>\n",
       "</table>\n",
       "</div>"
      ],
      "text/plain": [
       "  Cat 1 Cat 2  Num 1  Num 2  Num 3\n",
       "0     A     X     10    1.1    100\n",
       "1     B     Y     20    2.2    200\n",
       "2     A     Y     30    3.3    300\n",
       "3     C     X     40    4.4    400\n",
       "4     B     Z     50    5.5    500\n",
       "5     A     Z     60    6.6    600\n",
       "6     C     X     70    7.7    700\n",
       "7     C     Y     80    8.8    800"
      ]
     },
     "execution_count": 24,
     "metadata": {},
     "output_type": "execute_result"
    }
   ],
   "source": [
    "import pandas as pd \n",
    "\n",
    "# sample data - 2 cat col's and 3 num col's \n",
    "data = {\n",
    "    \"Cat 1\" : ['A', 'B', 'A', 'C', 'B', 'A', 'C', 'C'],\n",
    "    \"Cat 2\" : ['X', 'Y', 'Y', 'X', 'Z', 'Z', 'X', 'Y'],\n",
    "    \"Num 1\" : [10, 20, 30, 40, 50, 60, 70, 80],\n",
    "    \"Num 2\" : [1.1, 2.2, 3.3, 4.4, 5.5, 6.6, 7.7, 8.8],\n",
    "    \"Num 3\" : [100, 200, 300, 400, 500, 600, 700, 800]\n",
    "}\n",
    "\n",
    "df = pd.DataFrame(data)\n",
    "\n",
    "df"
   ]
  },
  {
   "cell_type": "code",
   "execution_count": 25,
   "id": "6f51898d-55c2-4a0e-a22f-6e6d2e94f11f",
   "metadata": {},
   "outputs": [
    {
     "name": "stdout",
     "output_type": "stream",
     "text": [
      "  Cat 1 Cat 2  Num 1  Num 2  Num 3  Category 1 Code  Category 2 Code\n",
      "0     A     X     10    1.1    100                0                0\n",
      "1     B     Y     20    2.2    200                1                1\n",
      "2     A     Y     30    3.3    300                0                1\n",
      "3     C     X     40    4.4    400                2                0\n",
      "4     B     Z     50    5.5    500                1                2\n",
      "5     A     Z     60    6.6    600                0                2\n",
      "6     C     X     70    7.7    700                2                0\n",
      "7     C     Y     80    8.8    800                2                1\n"
     ]
    }
   ],
   "source": [
    "# performing nominal encoding fot the categorical col's \n",
    "df[\"Category 1 Code\"] = df[\"Cat 1\"].astype(\"category\").cat.codes \n",
    "df['Category 2 Code'] = df['Cat 2'].astype('category').cat.codes\n",
    "\n",
    "print(df)"
   ]
  },
  {
   "cell_type": "markdown",
   "id": "808d2fbb-f0f9-4ed3-bf46-7e26adba1a4d",
   "metadata": {},
   "source": [
    "> - > - Here, nominal encoding is performed on the two categorical columns, resulting in two new columns to store the encoded values."
   ]
  },
  {
   "cell_type": "markdown",
   "id": "c7f8af96-28c7-4bee-b36b-a5fb2b6d62c7",
   "metadata": {},
   "source": [
    "# 6. You are working with a dataset containing information about different types of animals, including their species, habitat, and diet. Which encoding technique would you use to transform the categorical data into a format suitable for machine learning algorithms? Justify your answer. "
   ]
  },
  {
   "cell_type": "markdown",
   "id": "b66aca04-d0a9-4238-b96c-f21e60ed469c",
   "metadata": {},
   "source": [
    "- To transform categorical data about animals, such as species, habitat, and diet, into a format suitable for machine learning algorithms.\n",
    "- I would recommend using nominal encoding with integer labels. \n",
    "\n",
    "- **Nominal Encoding for Categorical Data:** Nominal encoding is ideal when we have categories with no natural order or ranking, which is often the case with animal species, habitats, and diets. \n",
    "> - It preserves the distinct categories in numerical form without introducing a large number of binary columns (as in one-hot encoding).\n",
    "- **Integer Labels:** Using integer labels for encoding keeps the representation simple and efficient. \n",
    "> - Each category is assigned a unique integer, making it straightforward for machine learning models to work with."
   ]
  },
  {
   "cell_type": "code",
   "execution_count": 26,
   "id": "f7b94526-7aa6-4de2-bec6-d2a922cff420",
   "metadata": {},
   "outputs": [
    {
     "data": {
      "text/html": [
       "<div>\n",
       "<style scoped>\n",
       "    .dataframe tbody tr th:only-of-type {\n",
       "        vertical-align: middle;\n",
       "    }\n",
       "\n",
       "    .dataframe tbody tr th {\n",
       "        vertical-align: top;\n",
       "    }\n",
       "\n",
       "    .dataframe thead th {\n",
       "        text-align: right;\n",
       "    }\n",
       "</style>\n",
       "<table border=\"1\" class=\"dataframe\">\n",
       "  <thead>\n",
       "    <tr style=\"text-align: right;\">\n",
       "      <th></th>\n",
       "      <th>Animal</th>\n",
       "      <th>Habitat</th>\n",
       "      <th>Diet</th>\n",
       "    </tr>\n",
       "  </thead>\n",
       "  <tbody>\n",
       "    <tr>\n",
       "      <th>0</th>\n",
       "      <td>Lion</td>\n",
       "      <td>Savannah</td>\n",
       "      <td>Carnivore</td>\n",
       "    </tr>\n",
       "    <tr>\n",
       "      <th>1</th>\n",
       "      <td>Elephant</td>\n",
       "      <td>Jungle</td>\n",
       "      <td>Herbivore</td>\n",
       "    </tr>\n",
       "    <tr>\n",
       "      <th>2</th>\n",
       "      <td>Giraffe</td>\n",
       "      <td>Savannah</td>\n",
       "      <td>Herbivore</td>\n",
       "    </tr>\n",
       "    <tr>\n",
       "      <th>3</th>\n",
       "      <td>Tiger</td>\n",
       "      <td>Jungle</td>\n",
       "      <td>Carnivore</td>\n",
       "    </tr>\n",
       "    <tr>\n",
       "      <th>4</th>\n",
       "      <td>Kangaroo</td>\n",
       "      <td>Forest</td>\n",
       "      <td>Herbivore</td>\n",
       "    </tr>\n",
       "  </tbody>\n",
       "</table>\n",
       "</div>"
      ],
      "text/plain": [
       "     Animal   Habitat       Diet\n",
       "0      Lion  Savannah  Carnivore\n",
       "1  Elephant    Jungle  Herbivore\n",
       "2   Giraffe  Savannah  Herbivore\n",
       "3     Tiger    Jungle  Carnivore\n",
       "4  Kangaroo    Forest  Herbivore"
      ]
     },
     "execution_count": 26,
     "metadata": {},
     "output_type": "execute_result"
    }
   ],
   "source": [
    "import pandas as pd \n",
    "\n",
    "# sample data - animal information \n",
    "data = {\n",
    "    \"Animal\" :[\"Lion\",\"Elephant\",\"Giraffe\",\"Tiger\",\"Kangaroo\"],\n",
    "    \"Habitat\" : [\"Savannah\", \"Jungle\", \"Savannah\", \"Jungle\", \"Forest\"],\n",
    "    \"Diet\" : [\"Carnivore\", \"Herbivore\", \"Herbivore\", \"Carnivore\", \"Herbivore\"]\n",
    "}\n",
    "\n",
    "df = pd.DataFrame(data)\n",
    "df\n"
   ]
  },
  {
   "cell_type": "code",
   "execution_count": 27,
   "id": "f3b4f16c-7bd0-4f2d-92ab-a99753aab53c",
   "metadata": {},
   "outputs": [
    {
     "name": "stdout",
     "output_type": "stream",
     "text": [
      "     Animal   Habitat       Diet  Animal Code  Habitat Code  Diet Code\n",
      "0      Lion  Savannah  Carnivore            1             1          1\n",
      "1  Elephant    Jungle  Herbivore            2             2          2\n",
      "2   Giraffe  Savannah  Herbivore            3             1          2\n",
      "3     Tiger    Jungle  Carnivore            4             2          1\n",
      "4  Kangaroo    Forest  Herbivore            5             3          2\n"
     ]
    }
   ],
   "source": [
    "# > Performing nominal encoding for the categorical columns  \n",
    "animal_mapping = {\"Lion\" : 1, \"Elephant\": 2, \"Giraffe\": 3, \"Tiger\" : 4, \"Kangaroo\" : 5}\n",
    "habitat_mapping = {\"Savannah\" : 1, \"Jungle\" : 2, \"Forest\" : 3}\n",
    "diet_mapping = {\"Carnivore\" : 1, \"Herbivore\" : 2}\n",
    "\n",
    "df[\"Animal Code\"] = df[\"Animal\"].map(animal_mapping)\n",
    "df[\"Habitat Code\"] = df[\"Habitat\"].map(habitat_mapping)\n",
    "df[\"Diet Code\"] = df[\"Diet\"].map(diet_mapping)\n",
    "\n",
    "print(df)"
   ]
  },
  {
   "cell_type": "markdown",
   "id": "59cd2ac8-4530-48e8-9553-bfd8a2851693",
   "metadata": {},
   "source": [
    "> - > - Here, we usec nominal encoding to convert categorical animal data into numerical values. \n",
    "> - > - Each category (species, habitat, diet) is assigned a unique integer code.\n",
    "> - > - This representation is suitable for machine learning algorithms and maintains the identities of animal categories without introducing unnecessary complexity."
   ]
  },
  {
   "cell_type": "markdown",
   "id": "37a09990-1424-418a-9471-3057cc296551",
   "metadata": {},
   "source": [
    "# 7. You are working on a project that involves predicting customer churn for a telecommunications company. You have a dataset with 5 features, including the customer's gender, age, contract type, monthly charges, and tenure. Which encoding technique(s) would you use to transform the categorical data into numerical data? Provide a step-by-step explanation of how you would implement the encoding."
   ]
  },
  {
   "cell_type": "markdown",
   "id": "09a67949-9f41-41a2-bdc5-594f8fb26b32",
   "metadata": {},
   "source": [
    "- To transform the categorical data in the customer churn dataset into numerical data, we can use a combination of encoding techniques, depending on the nature of the categorical variables.\n",
    "\n",
    "- **Label Encoding for Ordinal Data:** If the dataset contains categorical features with a clear order or hierarchy, such as \"contract type,\" we can use label encoding.\n",
    "> - In label encoding, each category is assigned an integer value based on its position in the order.\n",
    "> - For instance, we can assign 0 for \"Month-to-Month,\" 1 for \"One Year,\" and 2 for \"Two Year\" contract types.\n",
    "- **One-Hot Encoding for Nominal Data:** For categorical variables like \"gender,\" which have no inherent order or ranking, we should use one-hot encoding.\n",
    "> - One-hot encoding creates binary columns (0 or 1) for each category.\n",
    "> - For \"gender,\" it will create two columns: one for \"Male\" and one for \"Female.\"\n"
   ]
  },
  {
   "cell_type": "code",
   "execution_count": 28,
   "id": "2294a8e4-9d0e-4418-9eef-c328cec906f9",
   "metadata": {},
   "outputs": [
    {
     "name": "stdout",
     "output_type": "stream",
     "text": [
      "   Age  Contract Type  Monthly Charges  Tenure  Gender_Female  Gender_Male\n",
      "0   25              0               50       6              0            1\n",
      "1   30              1               60      12              1            0\n",
      "2   40              2               80      24              0            1\n",
      "3   35              0               55       8              1            0\n",
      "4   28              1               70      18              0            1\n"
     ]
    }
   ],
   "source": [
    "import pandas as pd\n",
    "\n",
    "# Sample data: Customer churn dataset\n",
    "data = {\n",
    "    'Gender': ['Male', 'Female', 'Male', 'Female', 'Male'],\n",
    "    'Age': [25, 30, 40, 35, 28],\n",
    "    'Contract Type': ['Month-to-Month', 'One Year', 'Two Year', 'Month-to-Month', 'One Year'],\n",
    "    'Monthly Charges': [50, 60, 80, 55, 70],\n",
    "    'Tenure': [6, 12, 24, 8, 18]\n",
    "}\n",
    "\n",
    "df = pd.DataFrame(data)\n",
    "\n",
    "# Step 1: Label Encoding for 'Contract Type'\n",
    "contract_mapping = {'Month-to-Month': 0, 'One Year': 1, 'Two Year': 2}\n",
    "df['Contract Type'] = df['Contract Type'].map(contract_mapping)\n",
    "\n",
    "# Step 2: One-Hot Encoding for 'Gender'\n",
    "df = pd.get_dummies(df, columns=['Gender'], prefix='Gender')\n",
    "\n",
    "print(df)\n"
   ]
  },
  {
   "cell_type": "code",
   "execution_count": 29,
   "id": "c8a7a508-432f-4595-ba8e-8abca4cc60ba",
   "metadata": {},
   "outputs": [
    {
     "data": {
      "text/html": [
       "<div>\n",
       "<style scoped>\n",
       "    .dataframe tbody tr th:only-of-type {\n",
       "        vertical-align: middle;\n",
       "    }\n",
       "\n",
       "    .dataframe tbody tr th {\n",
       "        vertical-align: top;\n",
       "    }\n",
       "\n",
       "    .dataframe thead th {\n",
       "        text-align: right;\n",
       "    }\n",
       "</style>\n",
       "<table border=\"1\" class=\"dataframe\">\n",
       "  <thead>\n",
       "    <tr style=\"text-align: right;\">\n",
       "      <th></th>\n",
       "      <th>Gender</th>\n",
       "      <th>Age</th>\n",
       "      <th>Contract Type</th>\n",
       "      <th>Monthly Charges</th>\n",
       "      <th>Tenure</th>\n",
       "    </tr>\n",
       "  </thead>\n",
       "  <tbody>\n",
       "    <tr>\n",
       "      <th>0</th>\n",
       "      <td>Male</td>\n",
       "      <td>25</td>\n",
       "      <td>Month-to-Month</td>\n",
       "      <td>50</td>\n",
       "      <td>6</td>\n",
       "    </tr>\n",
       "    <tr>\n",
       "      <th>1</th>\n",
       "      <td>Female</td>\n",
       "      <td>30</td>\n",
       "      <td>One Year</td>\n",
       "      <td>60</td>\n",
       "      <td>12</td>\n",
       "    </tr>\n",
       "    <tr>\n",
       "      <th>2</th>\n",
       "      <td>Male</td>\n",
       "      <td>45</td>\n",
       "      <td>Two Year</td>\n",
       "      <td>80</td>\n",
       "      <td>24</td>\n",
       "    </tr>\n",
       "    <tr>\n",
       "      <th>3</th>\n",
       "      <td>Female</td>\n",
       "      <td>35</td>\n",
       "      <td>Month-to-Month</td>\n",
       "      <td>55</td>\n",
       "      <td>8</td>\n",
       "    </tr>\n",
       "    <tr>\n",
       "      <th>4</th>\n",
       "      <td>Male</td>\n",
       "      <td>28</td>\n",
       "      <td>One Year</td>\n",
       "      <td>70</td>\n",
       "      <td>18</td>\n",
       "    </tr>\n",
       "  </tbody>\n",
       "</table>\n",
       "</div>"
      ],
      "text/plain": [
       "   Gender  Age   Contract Type  Monthly Charges  Tenure\n",
       "0    Male   25  Month-to-Month               50       6\n",
       "1  Female   30        One Year               60      12\n",
       "2    Male   45        Two Year               80      24\n",
       "3  Female   35  Month-to-Month               55       8\n",
       "4    Male   28        One Year               70      18"
      ]
     },
     "execution_count": 29,
     "metadata": {},
     "output_type": "execute_result"
    }
   ],
   "source": [
    "import pandas as pd \n",
    "\n",
    "# sample data - Customer Churn dataset \n",
    "\n",
    "data = {\n",
    "    \"Gender\" : [\"Male\", \"Female\", \"Male\", \"Female\", \"Male\"], \n",
    "    \"Age\" : [25, 30, 45, 35, 28], \n",
    "    \"Contract Type\" : [\"Month-to-Month\", \"One Year\", \"Two Year\", \"Month-to-Month\", \"One Year\"],\n",
    "    \"Monthly Charges\" : [50, 60, 80, 55, 70], \n",
    "    \"Tenure\" : [6, 12, 24, 8, 18]\n",
    "}\n",
    "\n",
    "df = pd.DataFrame(data)\n",
    "df"
   ]
  },
  {
   "cell_type": "code",
   "execution_count": 30,
   "id": "c3c4a9b1-3192-4dd1-b44f-3e34f2dc6cc5",
   "metadata": {},
   "outputs": [
    {
     "name": "stdout",
     "output_type": "stream",
     "text": [
      "   Age  Contract Type  Monthly Charges  Tenure  Gender_Female  Gender_Male\n",
      "0   25              0               50       6              0            1\n",
      "1   30              1               60      12              1            0\n",
      "2   45              2               80      24              0            1\n",
      "3   35              0               55       8              1            0\n",
      "4   28              1               70      18              0            1\n"
     ]
    }
   ],
   "source": [
    "# > Step 1 :- label encoding for \"Contract Type\" \n",
    "contract_mapping = {\"Month-to-Month\" : 0, \"One Year\" : 1, \"Two Year\" : 2}\n",
    "df[\"Contract Type\"] = df[\"Contract Type\"].map(contract_mapping)\n",
    "\n",
    "# > Step 2 :- One-Hot encoding for \"Gender\" \n",
    "df = pd.get_dummies(df, columns= [\"Gender\"], prefix = \"Gender\")\n",
    "\n",
    "print(df)"
   ]
  },
  {
   "cell_type": "markdown",
   "id": "1b877b0c-69ea-47ab-86e7-328a1ae18590",
   "metadata": {},
   "source": [
    "> - > - Here, we used label encoding for the \"Contract Type\" column, where each contract type is assigned a numerical value.\n",
    "> - > - One-hot encoding is used for the \"Gender\" column, creating separate binary columns for \"Male\" and \"Female.\"\n",
    "> - > - This combination of encoding techniques makes the data suitable for machine learning models while maintaining the meaningful distinctions between categories."
   ]
  }
 ],
 "metadata": {
  "kernelspec": {
   "display_name": "Python 3 (ipykernel)",
   "language": "python",
   "name": "python3"
  },
  "language_info": {
   "codemirror_mode": {
    "name": "ipython",
    "version": 3
   },
   "file_extension": ".py",
   "mimetype": "text/x-python",
   "name": "python",
   "nbconvert_exporter": "python",
   "pygments_lexer": "ipython3",
   "version": "3.10.8"
  }
 },
 "nbformat": 4,
 "nbformat_minor": 5
}
