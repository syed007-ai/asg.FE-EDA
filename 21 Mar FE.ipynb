{
 "cells": [
  {
   "cell_type": "markdown",
   "id": "9f82f732-be76-493d-9b8b-f2d9e23449d2",
   "metadata": {},
   "source": [
    "# 1.  What is the difference between Ordinal Encoding and Label Encoding? Provide an example of when you might choose one over the other."
   ]
  },
  {
   "cell_type": "markdown",
   "id": "9bd5c1cf-6ddf-4547-be76-385411e1578d",
   "metadata": {},
   "source": [
    "- **Ordinal Encoding** and **Label Encoding** are both techniques used to convert categorical data into numerical values, but they are typically used in different situations and have different characteristics.\n",
    "\n",
    "> - Ordinal Encoding is used when you have categorical data with a clear order or hierarchy. \n",
    "> > - For example, \"Low,\" \"Medium,\" and \"High\" have a logical order, and you can assign numerical values like 1, 2, and 3 to represent this order.\n",
    "\n",
    "> - Label Encoding, on the other hand, is used when you have categorical data without a natural order.\n",
    "> > - It assigns a unique integer label to each category, and there is no implied order among these labels.\n",
    "\n",
    "- > For, eg : Let's say we're working with a dataset that includes a \"T-shirt size\" feature.\n",
    "\n",
    "- In this case:\n",
    "> - If \"T-shirt size\" has an inherent order (e.g., \"Small\" < \"Medium\" < \"Large\"), we would use Ordinal Encoding. \n",
    "> > - We should assign 1, 2, and 3 to represent \"Small,\" \"Medium,\" and \"Large,\" respectively.\n",
    "\n",
    "> - If \"T-shirt size\" is purely nominal, with no natural order among the sizes, we would use Label Encoding. \n",
    "> > - Each size (\"Small,\" \"Medium,\" \"Large\") is given a unique integer label (e.g., 1, 2, 3)."
   ]
  },
  {
   "cell_type": "code",
   "execution_count": 1,
   "id": "cd03aa06-23e8-40bf-942c-3d33746c8b99",
   "metadata": {},
   "outputs": [
    {
     "name": "stdout",
     "output_type": "stream",
     "text": [
      "  T-shirt Size  T-shirt size (ordinal)  T-shirt size (label)\n",
      "0        Small                       1                     2\n",
      "1       Medium                       2                     1\n",
      "2        Large                       3                     0\n",
      "3        Small                       1                     2\n",
      "4       Medium                       2                     1\n"
     ]
    }
   ],
   "source": [
    "import pandas as pd\n",
    "\n",
    "# sample data -: T-shirt sizes \n",
    "data = {\n",
    "    \"T-shirt Size\" : [\"Small\", \"Medium\", \"Large\", \"Small\", \"Medium\"], \n",
    "    }\n",
    "df = pd.DataFrame(data)\n",
    "\n",
    "## ordinal encoding for T-shirt sizes \n",
    "ordinal_mapping = {\"Small\":1, \"Medium\":2, \"Large\":3}\n",
    "df[\"T-shirt size (ordinal)\"] = df[\"T-shirt Size\"].map(ordinal_mapping)\n",
    "\n",
    "## label encoding for T-shirt sizes \n",
    "df[\"T-shirt size (label)\"] = df[\"T-shirt Size\"].astype(\"category\").cat.codes \n",
    "\n",
    "print(df)"
   ]
  },
  {
   "cell_type": "markdown",
   "id": "929e6d39-1dbb-41ec-a140-f8e578dd380a",
   "metadata": {},
   "source": [
    "> - > - Here, we demonstrated both encoding techniques. \n",
    "> - > - Ordinal Encoding is used for \"T-shirt size\" to represent the order, while Label Encoding is used to assign unique integer labels."
   ]
  },
  {
   "cell_type": "markdown",
   "id": "d1820932-02f6-4dd6-bfca-3ae6b63472db",
   "metadata": {},
   "source": [
    "# 2. Explain how Target Guided Ordinal Encoding works and provide an example of when you might use it in a machine learning project."
   ]
  },
  {
   "cell_type": "markdown",
   "id": "4997582c-ff42-4e5e-a625-8e8446994a7a",
   "metadata": {},
   "source": [
    "- **Target Guided Ordinal Encoding** is a technique used to convert categorical data into ordinal numerical values based on the relationship between the category and the target variable.\n",
    "- It's particularly useful when you want to create ordinal labels for categories that show a meaningful and predictive relationship with the target variable.\n",
    "\n",
    "> - We calculate the mean or median of the target variable (e.g., the percentage of customers who churned) for each category of the categorical feature.\n",
    "> - This means we find the average or median target value for each category. \n",
    "> - We order the categories based on these mean or median values. \n",
    "> - The category with the lowest mean/median is assigned the lowest numerical label, and the category with the highest mean/median is assigned the highest numerical label.\n",
    "> - This creates an ordinal encoding of the categorical variable based on its predictive power in relation to the target variable.\n",
    "> - Categories that tend to have higher target values are assigned higher ordinal labels, indicating their importance in predicting the target.\n",
    "\n",
    "- > - For, eg : Consider a Customer Credit Card\n",
    "- Suppose we're working on a project to predict customer credit risk, and we have a dataset with a \"Credit Score Range\" feature.\n",
    "- This feature has categories like \"Poor,\" \"Fair,\" \"Good,\" and \"Excellent.\"\n",
    "\n",
    "- We observe that there's a strong relationship between the \"Credit Score Range\" and the likelihood of a customer defaulting on a loan.\n",
    "- \"Poor\" credit scores are associated with a higher default rate, while \"Excellent\" scores have a low default rate.\n",
    "\n",
    "- In this case, we can use Target Guided Ordinal Encoding to create ordinal labels for \"Credit Score Range\" based on the observed relationship with the target variable (default/non-default). \n",
    "- This encoding will reflect the predictive power of each credit score range in determining credit risk."
   ]
  },
  {
   "cell_type": "code",
   "execution_count": null,
   "id": "6fbc1eab-6776-4cd3-be1f-2cb8fd38fa8a",
   "metadata": {},
   "outputs": [],
   "source": [
    "import pandas as pd\n",
    "\n",
    "# Sample data: Credit Score Range and Target (Default: 1, Non-Default: 0)\n",
    "data = {\n",
    "    'Credit Score Range': ['Poor', 'Fair', 'Good', 'Excellent', 'Good', 'Excellent', 'Poor'],\n",
    "    'Default': [1, 0, 0, 0, 1, 0, 1]\n",
    "}\n",
    "\n",
    "df = pd.DataFrame(data)\n",
    "\n",
    "# Calculate the mean default rate for each category\n",
    "mean_default_rate = df.groupby('Credit Score Range')['Default'].mean()\n",
    "\n",
    "# Order the categories based on default rate\n",
    "ordinal_mapping = mean_default_rate.sort_values().index\n",
    "\n",
    "# Create ordinal labels\n",
    "ordinal_labels = {category: label for label, category in enumerate(ordinal_mapping)}\n",
    "\n",
    "# Apply Target Guided Ordinal Encoding\n",
    "df['Credit Score Range (Target Guided Ordinal)'] = df['Credit Score Range'].map(ordinal_labels)\n",
    "\n",
    "print(df)\n"
   ]
  },
  {
   "cell_type": "code",
   "execution_count": 3,
   "id": "d1382f18-27e5-41eb-91e3-d118b7bd7dfa",
   "metadata": {},
   "outputs": [
    {
     "data": {
      "text/html": [
       "<div>\n",
       "<style scoped>\n",
       "    .dataframe tbody tr th:only-of-type {\n",
       "        vertical-align: middle;\n",
       "    }\n",
       "\n",
       "    .dataframe tbody tr th {\n",
       "        vertical-align: top;\n",
       "    }\n",
       "\n",
       "    .dataframe thead th {\n",
       "        text-align: right;\n",
       "    }\n",
       "</style>\n",
       "<table border=\"1\" class=\"dataframe\">\n",
       "  <thead>\n",
       "    <tr style=\"text-align: right;\">\n",
       "      <th></th>\n",
       "      <th>Credit Score Range</th>\n",
       "      <th>Default</th>\n",
       "    </tr>\n",
       "  </thead>\n",
       "  <tbody>\n",
       "    <tr>\n",
       "      <th>0</th>\n",
       "      <td>Poor</td>\n",
       "      <td>1</td>\n",
       "    </tr>\n",
       "    <tr>\n",
       "      <th>1</th>\n",
       "      <td>Fair</td>\n",
       "      <td>0</td>\n",
       "    </tr>\n",
       "    <tr>\n",
       "      <th>2</th>\n",
       "      <td>Good</td>\n",
       "      <td>0</td>\n",
       "    </tr>\n",
       "    <tr>\n",
       "      <th>3</th>\n",
       "      <td>Excellent</td>\n",
       "      <td>0</td>\n",
       "    </tr>\n",
       "    <tr>\n",
       "      <th>4</th>\n",
       "      <td>Good</td>\n",
       "      <td>1</td>\n",
       "    </tr>\n",
       "    <tr>\n",
       "      <th>5</th>\n",
       "      <td>Excellent</td>\n",
       "      <td>0</td>\n",
       "    </tr>\n",
       "    <tr>\n",
       "      <th>6</th>\n",
       "      <td>Poor</td>\n",
       "      <td>1</td>\n",
       "    </tr>\n",
       "  </tbody>\n",
       "</table>\n",
       "</div>"
      ],
      "text/plain": [
       "  Credit Score Range  Default\n",
       "0               Poor        1\n",
       "1               Fair        0\n",
       "2               Good        0\n",
       "3          Excellent        0\n",
       "4               Good        1\n",
       "5          Excellent        0\n",
       "6               Poor        1"
      ]
     },
     "execution_count": 3,
     "metadata": {},
     "output_type": "execute_result"
    }
   ],
   "source": [
    "import pandas as pd \n",
    "\n",
    "# sample data - Credi score range and target (default : 1, non-default : 0)\n",
    "\n",
    "data = {\n",
    "    \"Credit Score Range\" : [\"Poor\", \"Fair\", \"Good\", \"Excellent\", \"Good\", \"Excellent\", \"Poor\"],\n",
    "    \"Default\" : [1, 0 ,0 ,0 ,1, 0,1]\n",
    "}\n",
    "df = pd.DataFrame(data)\n",
    "df\n"
   ]
  },
  {
   "cell_type": "code",
   "execution_count": 5,
   "id": "28cdcb69-2b49-4cdf-8fd7-93d7690e6eb3",
   "metadata": {},
   "outputs": [
    {
     "name": "stdout",
     "output_type": "stream",
     "text": [
      "  Credit Score Range  Default  Credit Score Range (Target Guided Ordinal)\n",
      "0               Poor        1                                           3\n",
      "1               Fair        0                                           1\n",
      "2               Good        0                                           2\n",
      "3          Excellent        0                                           0\n",
      "4               Good        1                                           2\n",
      "5          Excellent        0                                           0\n",
      "6               Poor        1                                           3\n"
     ]
    }
   ],
   "source": [
    "# > calculating the mean default rate for each category \n",
    "mean_default_rate = df.groupby(\"Credit Score Range\")[\"Default\"].mean()\n",
    "\n",
    "## order the categories based on the default range \n",
    "ordinal_mapping = mean_default_rate.sort_values().index\n",
    "\n",
    "## creating ordinal labels  \n",
    "ordinal_labels = {category : label for label, category in enumerate(ordinal_mapping)}\n",
    "\n",
    "## applying target guided ordinal encoding \n",
    "df[\"Credit Score Range (Target Guided Ordinal)\"] = df[\"Credit Score Range\"].map(ordinal_labels)\n",
    "\n",
    "print(df)"
   ]
  },
  {
   "cell_type": "markdown",
   "id": "c8107c51-c9da-4226-aca5-16aff32f1415",
   "metadata": {},
   "source": [
    "> - > - Here, we calculated the mean default rate for each \"Credit Score Range\" category and then create ordinal labels based on the default rate. \n",
    "> - > - This encoding reflects the predictive power of each credit score range in determining credit risk, making it a valuable feature for the machine learning model."
   ]
  },
  {
   "cell_type": "markdown",
   "id": "fadabd08-9ce7-40a8-810c-2f1a16c9a17b",
   "metadata": {},
   "source": [
    "# 3. Define covariance and explain why it is important in statistical analysis. How is covariance calculated?"
   ]
  },
  {
   "cell_type": "markdown",
   "id": "a85ff823-ebcb-4aeb-bf87-3d95236c458e",
   "metadata": {},
   "source": [
    "- **Covariance** is a statistical measure that helps us understand the relationship between two sets of data or variables.\n",
    "- It tells us how changes in one variable are associated with changes in another.\n",
    "- In a nut shell, it quantifies whether two variables tend to increase or decrease together, stay unrelated, or move in opposite directions.\n",
    "\n",
    "> - Covariance is essential in statistical analysis for several reasons:\n",
    "-  > [i] **Relationship Assessment:** It helps us understand if there is a relationship between two variables. \n",
    "- If the covariance is positive, it suggests that as one variable increases, the other tends to increase as well. \n",
    "- If it's negative, one variable tends to decrease as the other increases.\n",
    "-  > [ii] **Direction of Association:** It indicates the direction of the relationship. \n",
    "- A positive covariance means the two variables move in the same direction, while a negative covariance means they move in opposite directions.\n",
    "-  > [iii] **Strength of Association:** The magnitude of the covariance value indicates the strength of the relationship. \n",
    "- Larger absolute values of covariance imply a stronger association.\n"
   ]
  },
  {
   "cell_type": "code",
   "execution_count": 4,
   "id": "b237d209-c4c2-4ec0-8126-e3050eb606bb",
   "metadata": {},
   "outputs": [
    {
     "name": "stdout",
     "output_type": "stream",
     "text": [
      "Covariance between X and Y : 2.0\n"
     ]
    }
   ],
   "source": [
    "import numpy as np \n",
    "\n",
    "## sampled data - two sets of data (X and Y)\n",
    "X = [1, 2, 3, 4, 5]\n",
    "Y = [2, 4, 5, 4, 6]\n",
    "\n",
    "## calculate the covariance  \n",
    "covariance= np.cov(X, Y)[0, 1]\n",
    "\n",
    "# [0,1] - To extract the covariance between X and Y from the covariance matrix because \n",
    "## it's the value at the first row (0) and second column (1) of the matrix. This value represents how X and Y are related. \n",
    "\n",
    "print(f\"Covariance between X and Y : {covariance}\")"
   ]
  },
  {
   "cell_type": "markdown",
   "id": "39a6c75e-b6c7-45aa-8cd1-81dc0499f22f",
   "metadata": {},
   "source": [
    "> - > - Here, we used the np.cov function from the NumPy library to calculate the covariance between the two sets of data, X and Y. \n",
    "> - > - The result represents the strength and direction of their association."
   ]
  },
  {
   "cell_type": "markdown",
   "id": "367c5048-cd7c-4d29-b317-b784e8f47090",
   "metadata": {},
   "source": [
    "# 4. For a dataset with the following categorical variables: Color (red, green, blue), Size (small, medium, large), and Material (wood, metal, plastic), perform label encoding using Python's scikit-learn library. Show your code and explain the output."
   ]
  },
  {
   "cell_type": "code",
   "execution_count": 9,
   "id": "88657a52-653f-404e-9e33-8355ceb4ab48",
   "metadata": {},
   "outputs": [
    {
     "data": {
      "text/html": [
       "<div>\n",
       "<style scoped>\n",
       "    .dataframe tbody tr th:only-of-type {\n",
       "        vertical-align: middle;\n",
       "    }\n",
       "\n",
       "    .dataframe tbody tr th {\n",
       "        vertical-align: top;\n",
       "    }\n",
       "\n",
       "    .dataframe thead th {\n",
       "        text-align: right;\n",
       "    }\n",
       "</style>\n",
       "<table border=\"1\" class=\"dataframe\">\n",
       "  <thead>\n",
       "    <tr style=\"text-align: right;\">\n",
       "      <th></th>\n",
       "      <th>Color</th>\n",
       "      <th>Size</th>\n",
       "      <th>Material</th>\n",
       "    </tr>\n",
       "  </thead>\n",
       "  <tbody>\n",
       "    <tr>\n",
       "      <th>0</th>\n",
       "      <td>red</td>\n",
       "      <td>small</td>\n",
       "      <td>wood</td>\n",
       "    </tr>\n",
       "    <tr>\n",
       "      <th>1</th>\n",
       "      <td>green</td>\n",
       "      <td>medium</td>\n",
       "      <td>metal</td>\n",
       "    </tr>\n",
       "    <tr>\n",
       "      <th>2</th>\n",
       "      <td>blue</td>\n",
       "      <td>large</td>\n",
       "      <td>plastic</td>\n",
       "    </tr>\n",
       "    <tr>\n",
       "      <th>3</th>\n",
       "      <td>red</td>\n",
       "      <td>medium</td>\n",
       "      <td>metal</td>\n",
       "    </tr>\n",
       "    <tr>\n",
       "      <th>4</th>\n",
       "      <td>green</td>\n",
       "      <td>small</td>\n",
       "      <td>wood</td>\n",
       "    </tr>\n",
       "  </tbody>\n",
       "</table>\n",
       "</div>"
      ],
      "text/plain": [
       "   Color    Size Material\n",
       "0    red   small     wood\n",
       "1  green  medium    metal\n",
       "2   blue   large  plastic\n",
       "3    red  medium    metal\n",
       "4  green   small     wood"
      ]
     },
     "execution_count": 9,
     "metadata": {},
     "output_type": "execute_result"
    }
   ],
   "source": [
    "from sklearn.preprocessing import LabelEncoder \n",
    "import pandas as pd \n",
    "\n",
    "## sample data - Categorical variables \n",
    "data = {\n",
    "    \"Color\" : [\"red\", \"green\", \"blue\", \"red\", \"green\"],\n",
    "    \"Size\" : [\"small\", \"medium\", \"large\", \"medium\", \"small\"], \n",
    "    \"Material\" : [\"wood\", \"metal\", \"plastic\", \"metal\", \"wood\"]\n",
    "}\n",
    "\n",
    "df = pd.DataFrame(data)\n",
    "df"
   ]
  },
  {
   "cell_type": "code",
   "execution_count": 20,
   "id": "94a88dbf-cae1-4d4e-b63f-29b700979923",
   "metadata": {},
   "outputs": [
    {
     "name": "stdout",
     "output_type": "stream",
     "text": [
      "Encoded DataFrame:\n",
      "   Color  Size  Material\n",
      "0      2     2         2\n",
      "1      1     1         0\n",
      "2      0     0         1\n",
      "3      2     1         0\n",
      "4      1     2         2\n"
     ]
    }
   ],
   "source": [
    "# initializing the LabelEncoder\n",
    "label_encoder = LabelEncoder()\n",
    "\n",
    "# performing label encoding for each categorical variable\n",
    "for column in df.select_dtypes(include=['object']).columns:\n",
    "    df[column] = label_encoder.fit_transform(df[column])\n",
    "\n",
    "print(\"Encoded DataFrame:\")\n",
    "print(df)"
   ]
  },
  {
   "cell_type": "markdown",
   "id": "cf58d34d-e7a0-431f-b1c7-65ba682da4e7",
   "metadata": {},
   "source": [
    "> - > - Here, we started with a DataFrame containing categorical data.\n",
    "> - > - we created a LabelEncoder to transform the categorical values into numerical labels.\n",
    "> - > - For each categorical column, we applied the label encoding using fit_transform.\n",
    "> - > - The resulting DataFrame displays the encoded values.\n",
    "> - > - To interpret the output: Each unique category in the original data is now represented by a numerical label.\n",
    "\n",
    "- The encoded representation allows machine learning models to work with categorical data, which is typically required for many statistical and machine learning algorithms."
   ]
  },
  {
   "cell_type": "markdown",
   "id": "063376ea-4287-4c10-af79-cc40752b819c",
   "metadata": {},
   "source": [
    "# 5. Calculate the covariance matrix for the following variables in a dataset: Age, Income, and Education level. Interpret the results."
   ]
  },
  {
   "cell_type": "code",
   "execution_count": 24,
   "id": "73417b85-0837-4533-8770-d97df3ab41a2",
   "metadata": {},
   "outputs": [
    {
     "name": "stdout",
     "output_type": "stream",
     "text": [
      "Covariance Matrix : \n",
      "[[3.530e+01 5.425e+04 1.180e+01]\n",
      " [5.425e+04 9.250e+07 1.925e+04]\n",
      " [1.180e+01 1.925e+04 5.800e+00]]\n"
     ]
    }
   ],
   "source": [
    "import numpy as np \n",
    "\n",
    "## sample data - Age, Income, and Education level \n",
    "Age = [30, 35, 25, 40, 28]\n",
    "Income = [50000, 60000, 45000, 70000, 55000]\n",
    "Education = [12, 16, 14, 18, 13]\n",
    "\n",
    "## creating a data matrix  \n",
    "data_matrix = np.array([Age, Income, Education])\n",
    "\n",
    "## calculating the co-variance matrix  \n",
    "covariance_matrix = np.cov(data_matrix)\n",
    "\n",
    "print(\"Covariance Matrix : \")\n",
    "print(covariance_matrix)"
   ]
  },
  {
   "cell_type": "markdown",
   "id": "2aa59738-f0e3-4ca7-8054-3dadd62489fe",
   "metadata": {},
   "source": [
    "- The covariance matrix shows how these variables are related:\n",
    "> - > - [i] **Age and Age (Variance):** The variance of Age is approximately 35.3. \n",
    "- This means Age varies from the average age by this amount.\n",
    "> - > - [ii] **Income and Income (Variance):** The variance of Income is about 92,500,000.\n",
    "- It shows how much individual incomes differ from the average income.\n",
    "> - > - [iii] **Education and Education (Variance):** The variance of Education level is around 5.8, indicating how much education levels vary from the average.\n",
    "> - > - [iv] **Age and Income (Covariance):** The covariance between Age and Income is about 54,250. \n",
    "- It suggests that as Age tends to increase, Income also tends to increase. \n",
    "- However, the magnitude of the relationship is given by the covariance value.\n",
    "> - > - [v] **Age and Education (Covariance):** The covariance between Age and Education is approximately 11.8.\n",
    "- This implies that as Age tends to increase, Education level also tends to increase, but the relationship's strength is indicated by the covariance.\n",
    "> - > - [vi] **Income and Education (Covariance):** The covariance between Income and Education is roughly 19,250. \n",
    "- It suggests that as Income tends to increase, Education level also tends to increase, with the covariance value reflecting the strength of this relationship.\n",
    "\n",
    "> - In simpler terms, the covariance values indicate how variables tend to move together. \n",
    "- For example, Age and Income show a positive relationship, meaning that as one increases, the other tends to increase. \n",
    "- The magnitude of these relationships is given by the covariance values."
   ]
  },
  {
   "cell_type": "markdown",
   "id": "30001737-285b-4d92-b395-7ef16dcf1e75",
   "metadata": {},
   "source": [
    "# 6. You are working on a machine learning project with a dataset containing several categorical variables, including \"Gender\" (Male/Female), \"Education Level\" (High School/Bachelor's/Master's/PhD), and \"Employment Status\" (Unemployed/Part-Time/Full-Time). Which encoding method would you use for each variable, and why?"
   ]
  },
  {
   "cell_type": "markdown",
   "id": "9df11e32-3112-4e8f-abf3-7914d0076cf4",
   "metadata": {},
   "source": [
    "- **Gender (Binary Categorical Variable - Male/Female):**\n",
    "> - We use One-Hot Encoding: Since \"Gender\" is a binary variable (only two categories - Male and Female), one-hot encoding is a suitable choice. \n",
    "> - It converts each category into a binary column (0 or 1), allowing us to represent this information without introducing unnecessary ordinality.\n"
   ]
  },
  {
   "cell_type": "code",
   "execution_count": 25,
   "id": "ddb3933e-89b2-4129-97ae-62409f2f2b2f",
   "metadata": {},
   "outputs": [
    {
     "name": "stdout",
     "output_type": "stream",
     "text": [
      "   Gender_Female  Gender_Male\n",
      "0              0            1\n",
      "1              1            0\n",
      "2              0            1\n",
      "3              1            0\n",
      "4              0            1\n"
     ]
    }
   ],
   "source": [
    "import pandas as pd \n",
    "\n",
    "data = {\n",
    "    \"Gender\" : [\"Male\", \"Female\", \"Male\", \"Female\", \"Male\"], \n",
    "}\n",
    "\n",
    "df = pd.DataFrame(data)\n",
    "\n",
    "## performing One-hot encoding for \"Gender\" variable \n",
    "df = pd.get_dummies(df, columns=[\"Gender\"], prefix = \"Gender\")\n",
    "\n",
    "print(df) "
   ]
  },
  {
   "cell_type": "markdown",
   "id": "e0fa080e-abed-4bff-926a-7cdb0b6a0fc1",
   "metadata": {},
   "source": [
    "- **Education Level (Nominal Categorical Variable - High School/Bachelor's/Master's/PhD):**\n",
    "> - We use One-Hot Encoding: \"Education Level\" is a nominal categorical variable with no inherent order, so one-hot encoding is appropriate. \n",
    "> - It represents each education level with a separate binary column."
   ]
  },
  {
   "cell_type": "code",
   "execution_count": 26,
   "id": "565bfa12-594e-4053-b4e3-fa2815e762ad",
   "metadata": {},
   "outputs": [
    {
     "name": "stdout",
     "output_type": "stream",
     "text": [
      "   Education_Bachelor's  Education_High School  Education_Master's  \\\n",
      "0                     0                      1                   0   \n",
      "1                     1                      0                   0   \n",
      "2                     0                      0                   1   \n",
      "3                     0                      0                   0   \n",
      "4                     1                      0                   0   \n",
      "\n",
      "   Education_PhD  \n",
      "0              0  \n",
      "1              0  \n",
      "2              0  \n",
      "3              1  \n",
      "4              0  \n"
     ]
    }
   ],
   "source": [
    "data = {\n",
    "    'Education Level': [\"High School\", \"Bachelor's\", \"Master's\", \"PhD\", \"Bachelor's\"],\n",
    "}\n",
    "\n",
    "df = pd.DataFrame(data)\n",
    "\n",
    "# Performing one-hot encoding for 'Education Level'\n",
    "df = pd.get_dummies(df, columns=['Education Level'], prefix='Education')\n",
    "\n",
    "print(df)"
   ]
  },
  {
   "cell_type": "markdown",
   "id": "e5ee08d1-9b9e-4347-9fef-5ec2f971a369",
   "metadata": {},
   "source": [
    "- **Employment Status (Ordinal Categorical Variable - Unemployed/Part-Time/Full-Time):**\n",
    "> - We use Ordinal Encoding: \"Employment Status\" is an ordinal categorical variable with a clear order (Unemployed < Part-Time < Full-Time).\n",
    "> - Ordinal encoding assigns numerical values according to this order."
   ]
  },
  {
   "cell_type": "code",
   "execution_count": 27,
   "id": "06b85952-efe0-4632-a676-3b1b9ee4cc28",
   "metadata": {},
   "outputs": [
    {
     "name": "stdout",
     "output_type": "stream",
     "text": [
      "  Employment Status  Employment Status (Ordinal)\n",
      "0         Part-Time                            2\n",
      "1        Unemployed                            1\n",
      "2         Full-Time                            3\n",
      "3         Part-Time                            2\n",
      "4         Full-Time                            3\n"
     ]
    }
   ],
   "source": [
    "data = {\n",
    "    'Employment Status': ['Part-Time', 'Unemployed', 'Full-Time', 'Part-Time', 'Full-Time'],\n",
    "}\n",
    "\n",
    "df = pd.DataFrame(data)\n",
    "\n",
    "# Defining the ordinal mapping\n",
    "ordinal_mapping = {'Unemployed': 1, 'Part-Time': 2, 'Full-Time': 3}\n",
    "\n",
    "# Performing ordinal encoding for 'Employment Status'\n",
    "df['Employment Status (Ordinal)'] = df['Employment Status'].map(ordinal_mapping)\n",
    "\n",
    "print(df)"
   ]
  },
  {
   "cell_type": "markdown",
   "id": "b55e5b18-f0c2-4e91-aa55-633303421479",
   "metadata": {},
   "source": [
    "> - > - Hence, by using these encoding methods, we ensure that the machine learning model can work with the categorical data effectively.\n",
    "> - > - One-hot encoding is used for nominal data, while ordinal encoding is appropriate for ordinal data.\n",
    "> - > - These techniques prevent misinterpretation of the data by the model and help it make informed predictions."
   ]
  },
  {
   "cell_type": "markdown",
   "id": "f1855e5f-362d-4ee9-b66b-601ded6235a5",
   "metadata": {},
   "source": [
    "# 7. You are analyzing a dataset with two continuous variables, \"Temperature\" and \"Humidity\", and two categorical variables, \"Weather Condition\" (Sunny/Cloudy/Rainy) and \"Wind Direction\" (North/South/ East/West). Calculate the covariance between each pair of variables and interpret the results."
   ]
  },
  {
   "cell_type": "markdown",
   "id": "78fa98d5-aa92-4c17-9001-fee9225a0fcb",
   "metadata": {},
   "source": [
    "- To calculate the covariance between each pair of variables in a dataset with two continuous variables (Temperature and Humidity) and two categorical variables (Weather Condition and Wind Direction), we need to handle the continuous variables separately from the categorical ones.\n",
    "\n",
    "> - Covariance is generally used to measure the linear relationship between two continuous variables. \n",
    "> - It is not directly applicable to categorical variables. \n",
    "> - However, we can calculate the covariance between the two continuous variables (Temperature and Humidity) and then briefly interpret the results. \n",
    "> - For categorical variables, we would need to use techniques like one-hot encoding and then calculate covariances."
   ]
  },
  {
   "cell_type": "code",
   "execution_count": 31,
   "id": "460a0644-7e6b-4d5c-8f72-f51792af7ec4",
   "metadata": {},
   "outputs": [
    {
     "name": "stdout",
     "output_type": "stream",
     "text": [
      "Covariance between Temperature and Humidity: 18.45\n",
      "Covariance between Temperature and Weather Condition:\n",
      "[[ 9.3  0.9 -0.7 -0.2]\n",
      " [ 0.9  0.2 -0.1 -0.1]\n",
      " [-0.7 -0.1  0.3 -0.2]\n",
      " [-0.2 -0.1 -0.2  0.3]]\n",
      "\n",
      "Covariance between Temperature and Wind Direction:\n",
      "[[ 9.3  -1.1  -0.2   0.9   0.4 ]\n",
      " [-1.1   0.2  -0.1  -0.05 -0.05]\n",
      " [-0.2  -0.1   0.3  -0.1  -0.1 ]\n",
      " [ 0.9  -0.05 -0.1   0.2  -0.05]\n",
      " [ 0.4  -0.05 -0.1  -0.05  0.2 ]]\n"
     ]
    }
   ],
   "source": [
    "import numpy as np\n",
    "\n",
    "# sample data - Temperature, Humidity, Weather Condition, Wind Direction\n",
    "Temperature = [25, 30, 22, 27, 28]\n",
    "Humidity = [50, 60, 45, 55, 58]\n",
    "Weather_Condition = ['Sunny', 'Cloudy', 'Rainy', 'Sunny', 'Rainy']\n",
    "Wind_Direction = ['North', 'South', 'East', 'North', 'West']\n",
    "\n",
    "# Calculating the covariance between Temperature and Humidity\n",
    "cov_cont = np.cov(Temperature, Humidity)[0, 1]\n",
    "\n",
    "print(f'Covariance between Temperature and Humidity: {cov_cont:.2f}')\n",
    "\n",
    "# Encoding categorical variables using one-hot encoding\n",
    "Weather_Encoded = pd.get_dummies(Weather_Condition, prefix='Weather')\n",
    "Wind_Encoded = pd.get_dummies(Wind_Direction, prefix='Wind')\n",
    "\n",
    "# calculating the covariance between continuous variables and categorical variables\n",
    "cov_cont_weather = np.cov(Temperature, Weather_Encoded, rowvar=False)\n",
    "cov_cont_wind = np.cov(Temperature, Wind_Encoded, rowvar=False)\n",
    "\n",
    "print('Covariance between Temperature and Weather Condition:')\n",
    "print(cov_cont_weather)\n",
    "print('\\nCovariance between Temperature and Wind Direction:')\n",
    "print(cov_cont_wind)\n"
   ]
  },
  {
   "cell_type": "markdown",
   "id": "6d1ee415-e4e4-49a4-b45f-aefde50091ba",
   "metadata": {},
   "source": [
    "- # [i] **Covariance between Temperature and Humidity:**\n",
    "> - > - A positive covariance (e.g., 50.00) indicates that as Temperature tends to increase, Humidity also tends to increase, suggesting a positive relationship. \n",
    "> - > - In simple terms, warmer days are associated with higher humidity.\n",
    "- # [ii] **Covariance between Temperature and Weather Condition:**\n",
    "> - > - Each row in the covariance matrix represents the relationship between Temperature and one of the Weather Condition categories (Sunny, Cloudy, Rainy).\n",
    "> - > - In this context, it's challenging to provide a straightforward interpretation because Weather Condition is categorical. \n",
    "> - > - The covariance matrix shows how Temperature's variation relates to each weather category, but it may not be as informative as with continuous variables.\n",
    "- # [iii] **Covariance between Temperature and Wind Direction:**\n",
    "> - > - Similar to the Weather Condition, the covariance matrix for Wind Direction shows how Temperature's variation relates to each wind direction category (North, South, East, West).\n",
    "> - > - The interpretation here is complex because Wind Direction is also categorical, and the covariance matrix doesn't provide as clear a relationship as with continuous-continuous variables."
   ]
  },
  {
   "cell_type": "markdown",
   "id": "fc2314dd-4319-4ac9-a88b-27144468c09a",
   "metadata": {},
   "source": [
    "- In the case of categorical variables, the covariance matrix may not offer as intuitive insights as it does for continuous variables.\n",
    "> - To assess relationships between categorical and continuous variables, other statistical tests and techniques may be more suitable."
   ]
  }
 ],
 "metadata": {
  "kernelspec": {
   "display_name": "Python 3 (ipykernel)",
   "language": "python",
   "name": "python3"
  },
  "language_info": {
   "codemirror_mode": {
    "name": "ipython",
    "version": 3
   },
   "file_extension": ".py",
   "mimetype": "text/x-python",
   "name": "python",
   "nbconvert_exporter": "python",
   "pygments_lexer": "ipython3",
   "version": "3.10.8"
  }
 },
 "nbformat": 4,
 "nbformat_minor": 5
}
