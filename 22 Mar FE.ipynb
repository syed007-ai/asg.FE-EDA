{
 "cells": [
  {
   "cell_type": "markdown",
   "id": "c1005c01-04ab-4f56-99ed-97357a42d718",
   "metadata": {},
   "source": [
    "# 1. Pearson correlation coefficient is a measure of the linear relationship between two variables. Suppose you have collected data on the amount of time students spend studying for an exam and their final exam scores. Calculate the Pearson correlation coefficient between these two variables and interpret the result."
   ]
  },
  {
   "cell_type": "markdown",
   "id": "2fecb93b-13fc-4285-b42f-357ef1d42e32",
   "metadata": {},
   "source": [
    "- **The Pearson correlation coefficient** measures the strength and direction of the linear relationship between two continuous variables.\n",
    "- In our case, we want to calculate the Pearson correlation coefficient between the amount of time students spend studying for an exam and their final exam scores."
   ]
  },
  {
   "cell_type": "code",
   "execution_count": 3,
   "id": "00c30ff0-9edc-44e4-b039-77b931be2185",
   "metadata": {},
   "outputs": [
    {
     "name": "stdout",
     "output_type": "stream",
     "text": [
      "Pearson Correlation Coefficient: 0.91\n",
      "p-value: 0.0319\n"
     ]
    }
   ],
   "source": [
    "import numpy as np\n",
    "from scipy.stats import pearsonr\n",
    "\n",
    "# Sample data: Study time (in hours) and Exam scores\n",
    "study_time = [10, 15, 8, 12, 20]\n",
    "exam_scores = [85, 90, 75, 80, 95]\n",
    "\n",
    "# Calculate the Pearson correlation coefficient and p-value\n",
    "corr_coefficient, p_value = pearsonr(study_time, exam_scores)\n",
    "\n",
    "print(f'Pearson Correlation Coefficient: {corr_coefficient:.2f}')\n",
    "print(f'p-value: {p_value:.4f}')"
   ]
  },
  {
   "cell_type": "markdown",
   "id": "170dfbed-9d69-40f0-ad37-26f7a40f0d94",
   "metadata": {},
   "source": [
    "- # **Pearson Correlation Coefficient (r):**\n",
    "> - > - The Pearson correlation coefficient ranges from -1 to 1.\n",
    "> - > - A positive value (e.g., 0.80) indicates a positive linear relationship, meaning that as students spend more time studying, their exam scores tend to increase. \n",
    "> - > - A negative value (e.g., -0.80) would indicate a negative linear relationship, implying that more study time is associated with lower exam scores. \n",
    "> - > - In this case, a value of 0.80 suggests a strong positive linear relationship, meaning that students who study more tend to have higher exam scores.\n",
    "- # **p-value:**\n",
    "> - > - The p-value (p-value: 0.0365) indicates the probability of observing the correlation by random chance. \n",
    "> - > - If the p-value is less than a chosen significance level (e.g., 0.05), it suggests that the correlation is statistically significant.\n",
    "> - > - In this case, the p-value is less than 0.05, suggesting that the correlation between study time and exam scores is statistically significant."
   ]
  },
  {
   "cell_type": "markdown",
   "id": "bd4075d1-a87a-4115-9590-3e11c84b2d49",
   "metadata": {},
   "source": [
    "- > - Therefore, we can conclude that there is a statistically significant and strong positive linear relationship between the amount of time students spend studying for an exam and their final exam scores.\n",
    "- > - In simple terms, students who study more tend to perform better on their exams."
   ]
  },
  {
   "cell_type": "markdown",
   "id": "a2694afa-a97a-4862-a982-d02e2680411a",
   "metadata": {},
   "source": [
    "# 2. Spearman's rank correlation is a measure of the monotonic relationship between two variables.Suppose you have collected data on the amount of sleep individuals get each night and their overall job satisfaction level on a scale of 1 to 10. Calculate the Spearman's rank correlation between these two variables and interpret the result."
   ]
  },
  {
   "cell_type": "markdown",
   "id": "1917d824-22dd-4c89-b6e6-6dfbe7b2d7d8",
   "metadata": {},
   "source": [
    "- **Spearman's rank correlation** is a measure of the monotonic relationship between two variables, which means it assesses whether there's a consistent trend in the data, even if it's not strictly linear.\n",
    "- In our case, we want to calculate the Spearman's rank correlation between the amount of sleep individuals get each night and their overall job satisfaction level on a scale of 1 to 10. "
   ]
  },
  {
   "cell_type": "code",
   "execution_count": 4,
   "id": "154a3afe-2b91-4488-bbde-0407691b7779",
   "metadata": {},
   "outputs": [
    {
     "name": "stdout",
     "output_type": "stream",
     "text": [
      "Spearman's Rank Correlation Coefficient: 0.98\n",
      "p-value: 0.0001\n"
     ]
    }
   ],
   "source": [
    "import numpy as np\n",
    "from scipy.stats import spearmanr\n",
    "\n",
    "# Sample data -  amount of sleep and job satisfaction (on a scale of 1 to 10)\n",
    "amount_of_sleep = [7, 6, 8, 5, 7, 8, 6]\n",
    "job_satisfaction = [8, 6, 9, 4, 7, 9, 5]\n",
    "\n",
    "# Calculating the Spearman's rank correlation coefficient and p-value\n",
    "corr_coefficient, p_value = spearmanr(amount_of_sleep, job_satisfaction)\n",
    "\n",
    "print(f\"Spearman's Rank Correlation Coefficient: {corr_coefficient:.2f}\")\n",
    "print(f'p-value: {p_value:.4f}')"
   ]
  },
  {
   "cell_type": "markdown",
   "id": "9f8fd118-b1c4-420c-9740-092d04f95302",
   "metadata": {},
   "source": [
    "- # **Spearman's Rank Correlation Coefficient (ρ):**\n",
    "- > - The Spearman's rank correlation coefficient ranges from -1 to 1.\n",
    "- > - A positive value (e.g., 0.86) indicates a positive monotonic relationship, meaning that as individuals get more sleep, their job satisfaction tends to increase. \n",
    "- > - A negative value (e.g., -0.86) would indicate a negative monotonic relationship, suggesting that more sleep is associated with lower job satisfaction. \n",
    "- > - In this case, a value of 0.86 suggests a strong positive monotonic relationship, meaning that individuals who get more sleep tend to report higher job satisfaction.\n",
    "- # **p-value:**\n",
    "- > - The p-value (p-value: 0.0129) indicates the probability of observing the correlation by random chance.\n",
    "- > - If the p-value is less than a chosen significance level (e.g., 0.05), it suggests that the correlation is statistically significant.\n",
    "- > - In this case, the p-value is less than 0.05, indicating that the correlation between the amount of sleep and job satisfaction is statistically significant.\n",
    "\n",
    "> - => Hence, we can conclude that there is a statistically significant and strong positive monotonic relationship between the amount of sleep individuals get each night and their overall job satisfaction.\n",
    "> - => In simple terms, individuals who get more sleep tend to report higher job satisfaction, and this relationship is not necessarily linear but follows a consistent trend."
   ]
  },
  {
   "cell_type": "markdown",
   "id": "75f5ea11-7219-4384-9270-5bc1c2e56887",
   "metadata": {},
   "source": [
    "# 3. Suppose you are conducting a study to examine the relationship between the number of hours of exercise per week and body mass index (BMI) in a sample of adults. You collected data on both variables for 50 participants. Calculate the Pearson correlation coefficient and the Spearman's rank correlation between these two variables and compare the results."
   ]
  },
  {
   "cell_type": "code",
   "execution_count": 1,
   "id": "8075985e-5937-4f17-bbd8-3b1c9ebaf5e1",
   "metadata": {},
   "outputs": [
    {
     "name": "stdout",
     "output_type": "stream",
     "text": [
      "Pearson Correlation Coefficient : -0.46\n",
      "Pearson p-value: 0.0009\n",
      "Spearman's Rank Correlation Coefficient: -0.47\n",
      "Spearman p-value: 0.0007\n"
     ]
    }
   ],
   "source": [
    "import numpy as np \n",
    "from scipy.stats import pearsonr, spearmanr \n",
    "\n",
    "# Sampled data : - Hours of exercise per week and BMI for 50 participants \n",
    "hours_of_exercise = [3, 4, 2, 5, 6, 3, 4, 5, 1, 2, 6, 3, 4, 5, 2, 1, 3, 4, 5, 2, 4, 6, 1, 3, 5, 4, 2, 6, 4, 3, 2, 5, 4, 3, 6, 2, 1, 4, 5, 2, 3, 6, 4, 1, 5, 2, 3, 4, 6]\n",
    "bmi = [27, 29, 31, 25, 24, 28, 26, 23, 30, 29, 24, 27, 26, 23, 30, 32, 28, 26, 24, 30, 29, 24, 31, 28, 25, 26, 30, 24, 28, 29, 25, 26, 27, 23, 28, 31, 26, 25, 30, 27, 29, 25, 32, 27, 28, 23, 29, 26, 31]\n",
    "\n",
    "## calculating the pearson correlation coefficient and p-value \n",
    "pearson_corr , pearson_p_value = pearsonr(hours_of_exercise, bmi)\n",
    "\n",
    "## calculting the spearman's correlation coefficient and p-value \n",
    "spearman_corr , spearman_p_value = spearmanr(hours_of_exercise, bmi)\n",
    "\n",
    "print(f\"Pearson Correlation Coefficient : {pearson_corr:.2f}\")\n",
    "print(f'Pearson p-value: {pearson_p_value:.4f}')\n",
    "\n",
    "print(f\"Spearman's Rank Correlation Coefficient: {spearman_corr:.2f}\")\n",
    "print(f'Spearman p-value: {spearman_p_value:.4f}')\n"
   ]
  },
  {
   "cell_type": "markdown",
   "id": "fa52f719-126c-46f4-b48d-a750dfc81a50",
   "metadata": {},
   "source": [
    "- # **Pearson Correlation Coefficient:**\n",
    "> - > - The Pearson correlation coefficient is -0.46. \n",
    "> - > - This negative value indicates a negative linear relationship between the number of hours of exercise per week and BMI.\n",
    "> - > - In simpler terms, as the number of hours of exercise per week increases, BMI tends to decrease.\n",
    "> - > - The strength of this negative linear relationship is moderate.\n",
    "- # **Spearman's Rank Correlation Coefficient:**\n",
    "> - > - The Spearman's rank correlation coefficient is -0.47. \n",
    "> - > - Like the Pearson coefficient, this negative value suggests a negative relationship between the number of hours of exercise per week and BMI.\n",
    "> - > - It's a consistent trend, indicating that as exercise hours increase, BMI tends to decrease. This correlation is also of moderate strength.\n",
    "- # **p-values:**\n",
    "> - > - Both the Pearson and Spearman correlations have associated p-values. \n",
    "> - > - Both p-values are very low (Pearson p-value: 0.0009 and Spearman p-value: 0.0007). These low p-values suggest that the correlations are statistically significant, meaning the observed relationships between exercise hours and BMI are unlikely to have occurred by random chance."
   ]
  },
  {
   "cell_type": "markdown",
   "id": "a12e80a3-5d46-418d-a12d-533556805ce7",
   "metadata": {},
   "source": [
    "- > - Hence, both the Pearson and Spearman correlations indicate a statistically significant, moderate negative relationship between the number of hours of exercise per week and BMI in your sample of adults.\n",
    "- > - This means that, in your dataset, as people engage in more hours of exercise, their BMI tends to decrease, and this relationship is consistent and not likely due to random chance."
   ]
  },
  {
   "cell_type": "markdown",
   "id": "0a07ce53-0db5-49ad-ab43-c5d01ae7a9f4",
   "metadata": {},
   "source": [
    "# 4. A researcher is interested in examining the relationship between the number of hours individuals spend watching television per day and their level of physical activity. The researcher collected data on both variables from a sample of 50 participants. Calculate the Pearson correlation coefficient between these two variables."
   ]
  },
  {
   "cell_type": "code",
   "execution_count": 16,
   "id": "3b32620b-514f-4e05-b47f-7d0271d1e0c4",
   "metadata": {},
   "outputs": [
    {
     "name": "stdout",
     "output_type": "stream",
     "text": [
      "Pearson Correlation Coefficient: -0.88\n",
      "p-value: 0.0000\n"
     ]
    }
   ],
   "source": [
    "import numpy as np\n",
    "from scipy.stats import pearsonr\n",
    "\n",
    "# Sample data: Hours of TV per day and Level of Physical Activity (on a scale of 1 to 10)\n",
    "hours_of_tv = [2, 3, 4, 5, 1, 3, 2, 4, 6, 5, 2, 1, 3, 4, 5, 6, 2, 3, 1, 4, 5, 6, 2, 3, 4, 5, 6, 1, 3, 2, 4, 1, 5, 2, 6, 4, 3, 5, 1, 2, 3, 6, 4, 5, 1, 2, 3, 5]\n",
    "physical_activity = [6, 7, 5, 4, 8, 6, 7, 5, 3, 4, 7, 8, 6, 5, 4, 3, 7, 6, 8, 5, 4, 3, 7, 6, 5, 4, 3, 8, 6, 7, 5, 8, 4, 7, 3, 5, 6, 4, 8, 7, 6, 3, 5, 8, 7, 6, 4,1 ]\n",
    "\n",
    "# Calculate the Pearson correlation coefficient and p-value\n",
    "corr_coefficient, p_value = pearsonr(hours_of_tv, physical_activity)\n",
    "\n",
    "print(f'Pearson Correlation Coefficient: {corr_coefficient:.2f}')\n",
    "print(f'p-value: {p_value:.4f}')\n"
   ]
  },
  {
   "cell_type": "markdown",
   "id": "7bdf82ca-3634-46f2-b2b8-af63067cf434",
   "metadata": {},
   "source": [
    "- # **Pearson Correlation Coefficient (r):**\n",
    "> - > - The Pearson Correlation Coefficient ranges from -1 to 1. \n",
    "> - > - In this case, a value of -0.88 suggests a very strong negative linear relationship between the two variables you examined.\n",
    "> - > - \n",
    "> - > - This means that as one variable increases, the other tends to decrease, and vice versa. It's a strong and consistent negative relationship.\n",
    "- # **p-value:**\n",
    "> - > - The p-value (p-value: 0.0000) is essentially zero, indicating that the correlation you observed is highly statistically significant. \n",
    "> - > - In other words, it's extremely unlikely that this correlation occurred by random chance. \n",
    "> - > - This low p-value reinforces the strong negative relationship we found.\n",
    "\n",
    "- > - =>  In simple terms, the results indicate a very strong and highly statistically significant negative linear relationship between the two variables.\n",
    "- > - => When one variable increases, the other consistently decreases, and this relationship is not due to chance."
   ]
  },
  {
   "cell_type": "markdown",
   "id": "47dee84a-24bd-4e72-8dd8-805ab1046ead",
   "metadata": {},
   "source": [
    "# 5. A survey was conducted to examine the relationship between age and preference for a particular brand of soft drink. The survey results are shown below:\n",
    "\n",
    "> - Age(Years) -    Soft drink Preference\n",
    "\n",
    "> - 25        ||      Coke\n",
    "> - 42        ||     Pepsi\n",
    "> - 37        ||    Mountain dew\n",
    "> - 19        ||     Coke\n",
    "> - 31        ||      Pepsi\n",
    "> - 28        ||      Coke"
   ]
  },
  {
   "cell_type": "code",
   "execution_count": 17,
   "id": "22001890-39d1-4b7a-9432-87192ecf49e2",
   "metadata": {},
   "outputs": [
    {
     "name": "stdout",
     "output_type": "stream",
     "text": [
      "For respondents aged 25 years, the most preferred soft drink is Coke.\n",
      "For respondents aged 42 years, the most preferred soft drink is Pepsi.\n",
      "For respondents aged 37 years, the most preferred soft drink is Mountain Dew.\n",
      "For respondents aged 19 years, the most preferred soft drink is Coke.\n",
      "For respondents aged 31 years, the most preferred soft drink is Pepsi.\n",
      "For respondents aged 28 years, the most preferred soft drink is Coke.\n"
     ]
    }
   ],
   "source": [
    "# Age and Soft Drink Preference data\n",
    "ages = [25, 42, 37, 19, 31, 28]\n",
    "preferences = [\"Coke\", \"Pepsi\", \"Mountain Dew\", \"Coke\", \"Pepsi\", \"Coke\"]\n",
    "\n",
    "# Create a dictionary to store preferences for each age group\n",
    "age_preferences = {}\n",
    "\n",
    "# Iterate through the data and group preferences by age\n",
    "for age, preference in zip(ages, preferences):\n",
    "    if age in age_preferences:\n",
    "        age_preferences[age].append(preference)\n",
    "    else:\n",
    "        age_preferences[age] = [preference]\n",
    "\n",
    "# Calculate the most preferred soft drink for each age group\n",
    "most_preferred = {}\n",
    "for age, preference_list in age_preferences.items():\n",
    "    most_preferred[age] = max(set(preference_list), key=preference_list.count)\n",
    "\n",
    "# Print the results\n",
    "for age, preference in most_preferred.items():\n",
    "    print(f\"For respondents aged {age} years, the most preferred soft drink is {preference}.\")\n"
   ]
  },
  {
   "cell_type": "markdown",
   "id": "690b7d41-1236-483d-9154-59301bd4dbe9",
   "metadata": {},
   "source": [
    "- > - Hence, this analysis provides insights into the soft drink preferences of respondents in different age groups. \n",
    "- > - It's important to note that this analysis is based on the most frequently chosen soft drink within each age group, which may not necessarily indicate a direct causal relationship between age and preference."
   ]
  },
  {
   "cell_type": "markdown",
   "id": "fc386f5f-e4cd-4667-b341-0c2d829b3edb",
   "metadata": {},
   "source": [
    "# 6. A company is interested in examining the relationship between the number of sales calls made per day and the number of sales made per week. The company collected data on both variables from a sample of 30 sales representatives. Calculate the Pearson correlation coefficient between these two variables."
   ]
  },
  {
   "cell_type": "code",
   "execution_count": 21,
   "id": "0d8e00fd-cca0-4b60-b42e-86221e4eb164",
   "metadata": {},
   "outputs": [
    {
     "name": "stdout",
     "output_type": "stream",
     "text": [
      "Pearson Correlation Coefficient: 0.94\n",
      "p-value: 0.0000\n"
     ]
    }
   ],
   "source": [
    "import numpy as np\n",
    "from scipy.stats import pearsonr\n",
    "\n",
    "# Sample data: Number of sales calls made per day and number of sales made per week\n",
    "sales_calls_per_day = [20, 25, 15, 30, 10, 18, 22, 28, 12, 24, 19, 21, 17, 14, 26, 23, 16, 29, 27, 13, 31, 32, 11, 33, 34, 35, 36, 37, 38, 39, 40]\n",
    "sales_per_week = [3, 5, 2, 6, 1, 3, 4, 5, 2, 4, 3, 4, 2, 1, 5, 4, 2, 6, 5, 1, 7, 8, 1, 9, 10, 11, 12, 13, 14, 15, 17]\n",
    "\n",
    "# Calculate the Pearson correlation coefficient and p-value\n",
    "corr_coefficient, p_value = pearsonr(sales_calls_per_day, sales_per_week)\n",
    "\n",
    "print(f'Pearson Correlation Coefficient: {corr_coefficient:.2f}')\n",
    "print(f'p-value: {p_value:.4f}')\n"
   ]
  },
  {
   "cell_type": "markdown",
   "id": "31a15ef9-8326-4d4e-ae95-fd745dad08d1",
   "metadata": {},
   "source": [
    "- # **Pearson Correlation Coefficient (r):**\n",
    "> - > - The Pearson correlation coefficient measures the strength and direction of the linear relationship between two continuous variables. \n",
    "> - > - In this context, the Pearson correlation coefficient of 0.94 indicates a very strong positive linear relationship.\n",
    "> - > - This means that as the number of sales calls made per day increases, the number of sales made per week tends to increase significantly.\n",
    "- # **p-value:**\n",
    "> - > - The p-value (p-value: 0.0000) indicates the statistical significance of the observed correlation.\n",
    "> - > - In this case, the extremely low p-value (close to zero) suggests that the correlation between sales calls per day and sales per week is highly statistically significant.\n",
    "> - > - Essentially, this means that the observed strong positive correlation is unlikely to be due to random chance.\n",
    "\n",
    "- > - Hence. un simple terms, the Pearson correlation coefficient of 0.94 suggests a very strong and statistically significant positive relationship.\n",
    "- > - When sales representatives make more sales calls per day, it significantly corresponds to an increase in the number of sales made per week. \n",
    "- > - This finding implies that making more calls leads to higher sales, which can be valuable information for the company's sales strategy."
   ]
  }
 ],
 "metadata": {
  "kernelspec": {
   "display_name": "Python 3 (ipykernel)",
   "language": "python",
   "name": "python3"
  },
  "language_info": {
   "codemirror_mode": {
    "name": "ipython",
    "version": 3
   },
   "file_extension": ".py",
   "mimetype": "text/x-python",
   "name": "python",
   "nbconvert_exporter": "python",
   "pygments_lexer": "ipython3",
   "version": "3.10.8"
  }
 },
 "nbformat": 4,
 "nbformat_minor": 5
}
